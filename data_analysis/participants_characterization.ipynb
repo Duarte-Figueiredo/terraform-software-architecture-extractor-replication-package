{
 "cells": [
  {
   "cell_type": "code",
   "execution_count": 1,
   "id": "41024747",
   "metadata": {
    "pycharm": {
     "name": "#%%\n"
    }
   },
   "outputs": [
    {
     "name": "stdout",
     "output_type": "stream",
     "text": [
      "Collecting numpy\n",
      "  Using cached numpy-2.0.0-cp39-cp39-manylinux_2_17_x86_64.manylinux2014_x86_64.whl.metadata (60 kB)\n",
      "Collecting gspread\n",
      "  Using cached gspread-6.1.2-py3-none-any.whl.metadata (11 kB)\n",
      "Collecting oauth2client\n",
      "  Using cached oauth2client-4.1.3-py2.py3-none-any.whl.metadata (1.2 kB)\n",
      "Collecting df2gspread\n",
      "  Using cached df2gspread-1.0.4-py3-none-any.whl\n",
      "Collecting pandas\n",
      "  Using cached pandas-2.2.2-cp39-cp39-manylinux_2_17_x86_64.manylinux2014_x86_64.whl.metadata (19 kB)\n",
      "Collecting matplotlib\n",
      "  Using cached matplotlib-3.9.0-cp39-cp39-manylinux_2_17_x86_64.manylinux2014_x86_64.whl.metadata (11 kB)\n",
      "Collecting seaborn\n",
      "  Using cached seaborn-0.13.2-py3-none-any.whl.metadata (5.4 kB)\n",
      "Collecting pandas-profiling\n",
      "  Using cached pandas_profiling-3.6.6-py2.py3-none-any.whl.metadata (4.5 kB)\n",
      "Collecting google-auth>=1.12.0 (from gspread)\n",
      "  Using cached google_auth-2.30.0-py2.py3-none-any.whl.metadata (4.7 kB)\n",
      "Collecting google-auth-oauthlib>=0.4.1 (from gspread)\n",
      "  Using cached google_auth_oauthlib-1.2.0-py2.py3-none-any.whl.metadata (2.7 kB)\n",
      "Collecting httplib2>=0.9.1 (from oauth2client)\n",
      "  Using cached httplib2-0.22.0-py3-none-any.whl.metadata (2.6 kB)\n",
      "Collecting pyasn1>=0.1.7 (from oauth2client)\n",
      "  Using cached pyasn1-0.6.0-py2.py3-none-any.whl.metadata (8.3 kB)\n",
      "Collecting pyasn1-modules>=0.0.5 (from oauth2client)\n",
      "  Using cached pyasn1_modules-0.4.0-py3-none-any.whl.metadata (3.4 kB)\n",
      "Collecting rsa>=3.1.4 (from oauth2client)\n",
      "  Using cached rsa-4.9-py3-none-any.whl.metadata (4.2 kB)\n",
      "Requirement already satisfied: six>=1.6.1 in /home/duarte/Documents/Personal/terraform-software-architecture-extractor-replication-package/.venv/lib/python3.9/site-packages (from oauth2client) (1.16.0)\n",
      "Collecting argparse>=1.3.0 (from df2gspread)\n",
      "  Using cached argparse-1.4.0-py2.py3-none-any.whl.metadata (2.8 kB)\n",
      "Collecting google-api-python-client==1.6.7 (from df2gspread)\n",
      "  Using cached google_api_python_client-1.6.7-py2.py3-none-any.whl.metadata (1.2 kB)\n",
      "Collecting uritemplate<4dev,>=3.0.0 (from google-api-python-client==1.6.7->df2gspread)\n",
      "  Using cached uritemplate-3.0.1-py2.py3-none-any.whl.metadata (4.6 kB)\n",
      "Requirement already satisfied: python-dateutil>=2.8.2 in /home/duarte/Documents/Personal/terraform-software-architecture-extractor-replication-package/.venv/lib/python3.9/site-packages (from pandas) (2.9.0.post0)\n",
      "Collecting pytz>=2020.1 (from pandas)\n",
      "  Using cached pytz-2024.1-py2.py3-none-any.whl.metadata (22 kB)\n",
      "Collecting tzdata>=2022.7 (from pandas)\n",
      "  Using cached tzdata-2024.1-py2.py3-none-any.whl.metadata (1.4 kB)\n",
      "Collecting contourpy>=1.0.1 (from matplotlib)\n",
      "  Using cached contourpy-1.2.1-cp39-cp39-manylinux_2_17_x86_64.manylinux2014_x86_64.whl.metadata (5.8 kB)\n",
      "Collecting cycler>=0.10 (from matplotlib)\n",
      "  Using cached cycler-0.12.1-py3-none-any.whl.metadata (3.8 kB)\n",
      "Collecting fonttools>=4.22.0 (from matplotlib)\n",
      "  Using cached fonttools-4.53.0-cp39-cp39-manylinux_2_17_x86_64.manylinux2014_x86_64.whl.metadata (162 kB)\n",
      "Collecting kiwisolver>=1.3.1 (from matplotlib)\n",
      "  Using cached kiwisolver-1.4.5-cp39-cp39-manylinux_2_12_x86_64.manylinux2010_x86_64.whl.metadata (6.4 kB)\n",
      "Requirement already satisfied: packaging>=20.0 in /home/duarte/Documents/Personal/terraform-software-architecture-extractor-replication-package/.venv/lib/python3.9/site-packages (from matplotlib) (24.1)\n",
      "Collecting pillow>=8 (from matplotlib)\n",
      "  Using cached pillow-10.3.0-cp39-cp39-manylinux_2_28_x86_64.whl.metadata (9.2 kB)\n",
      "Collecting pyparsing>=2.3.1 (from matplotlib)\n",
      "  Using cached pyparsing-3.1.2-py3-none-any.whl.metadata (5.1 kB)\n",
      "Collecting importlib-resources>=3.2.0 (from matplotlib)\n",
      "  Using cached importlib_resources-6.4.0-py3-none-any.whl.metadata (3.9 kB)\n",
      "Collecting ydata-profiling (from pandas-profiling)\n",
      "  Using cached ydata_profiling-4.8.3-py2.py3-none-any.whl.metadata (20 kB)\n",
      "Collecting cachetools<6.0,>=2.0.0 (from google-auth>=1.12.0->gspread)\n",
      "  Using cached cachetools-5.3.3-py3-none-any.whl.metadata (5.3 kB)\n",
      "Collecting requests-oauthlib>=0.7.0 (from google-auth-oauthlib>=0.4.1->gspread)\n",
      "  Using cached requests_oauthlib-2.0.0-py2.py3-none-any.whl.metadata (11 kB)\n",
      "Requirement already satisfied: zipp>=3.1.0 in /home/duarte/Documents/Personal/terraform-software-architecture-extractor-replication-package/.venv/lib/python3.9/site-packages (from importlib-resources>=3.2.0->matplotlib) (3.19.2)\n",
      "Collecting scipy<1.14,>=1.4.1 (from ydata-profiling->pandas-profiling)\n",
      "  Using cached scipy-1.13.1-cp39-cp39-manylinux_2_17_x86_64.manylinux2014_x86_64.whl.metadata (60 kB)\n",
      "Collecting matplotlib\n",
      "  Using cached matplotlib-3.8.4-cp39-cp39-manylinux_2_17_x86_64.manylinux2014_x86_64.whl.metadata (5.8 kB)\n",
      "Collecting pydantic>=2 (from ydata-profiling->pandas-profiling)\n",
      "  Using cached pydantic-2.7.4-py3-none-any.whl.metadata (109 kB)\n",
      "Collecting PyYAML<6.1,>=5.0.0 (from ydata-profiling->pandas-profiling)\n",
      "  Using cached PyYAML-6.0.1-cp39-cp39-manylinux_2_17_x86_64.manylinux2014_x86_64.whl.metadata (2.1 kB)\n",
      "Collecting jinja2<3.2,>=2.11.1 (from ydata-profiling->pandas-profiling)\n",
      "  Using cached jinja2-3.1.4-py3-none-any.whl.metadata (2.6 kB)\n",
      "Collecting visions<0.7.7,>=0.7.5 (from visions[type_image_path]<0.7.7,>=0.7.5->ydata-profiling->pandas-profiling)\n",
      "  Using cached visions-0.7.6-py3-none-any.whl.metadata (11 kB)\n",
      "Collecting numpy\n",
      "  Using cached numpy-1.26.4-cp39-cp39-manylinux_2_17_x86_64.manylinux2014_x86_64.whl.metadata (61 kB)\n",
      "Collecting htmlmin==0.1.12 (from ydata-profiling->pandas-profiling)\n",
      "  Using cached htmlmin-0.1.12-py3-none-any.whl\n",
      "Collecting phik<0.13,>=0.11.1 (from ydata-profiling->pandas-profiling)\n",
      "  Using cached phik-0.12.4-cp39-cp39-manylinux_2_17_x86_64.manylinux2014_x86_64.whl.metadata (5.6 kB)\n",
      "Collecting requests<3,>=2.24.0 (from ydata-profiling->pandas-profiling)\n",
      "  Using cached requests-2.32.3-py3-none-any.whl.metadata (4.6 kB)\n",
      "Collecting tqdm<5,>=4.48.2 (from ydata-profiling->pandas-profiling)\n",
      "  Using cached tqdm-4.66.4-py3-none-any.whl.metadata (57 kB)\n",
      "Collecting multimethod<2,>=1.4 (from ydata-profiling->pandas-profiling)\n",
      "  Using cached multimethod-1.11.2-py3-none-any.whl.metadata (9.1 kB)\n",
      "Collecting statsmodels<1,>=0.13.2 (from ydata-profiling->pandas-profiling)\n",
      "  Using cached statsmodels-0.14.2-cp39-cp39-manylinux_2_17_x86_64.manylinux2014_x86_64.whl.metadata (9.2 kB)\n",
      "Collecting typeguard<5,>=3 (from ydata-profiling->pandas-profiling)\n",
      "  Using cached typeguard-4.3.0-py3-none-any.whl.metadata (3.7 kB)\n",
      "Collecting imagehash==4.3.1 (from ydata-profiling->pandas-profiling)\n",
      "  Using cached ImageHash-4.3.1-py2.py3-none-any.whl.metadata (8.0 kB)\n",
      "Collecting wordcloud>=1.9.1 (from ydata-profiling->pandas-profiling)\n",
      "  Using cached wordcloud-1.9.3-cp39-cp39-manylinux_2_17_x86_64.manylinux2014_x86_64.whl.metadata (3.4 kB)\n",
      "Collecting dacite>=1.8 (from ydata-profiling->pandas-profiling)\n",
      "  Using cached dacite-1.8.1-py3-none-any.whl.metadata (15 kB)\n",
      "Collecting numba<1,>=0.56.0 (from ydata-profiling->pandas-profiling)\n",
      "  Using cached numba-0.60.0-cp39-cp39-manylinux2014_x86_64.manylinux_2_17_x86_64.whl.metadata (2.7 kB)\n",
      "Collecting PyWavelets (from imagehash==4.3.1->ydata-profiling->pandas-profiling)\n",
      "  Using cached pywavelets-1.6.0-cp39-cp39-manylinux_2_17_x86_64.manylinux2014_x86_64.whl.metadata (9.0 kB)\n",
      "Collecting MarkupSafe>=2.0 (from jinja2<3.2,>=2.11.1->ydata-profiling->pandas-profiling)\n",
      "  Using cached MarkupSafe-2.1.5-cp39-cp39-manylinux_2_17_x86_64.manylinux2014_x86_64.whl.metadata (3.0 kB)\n",
      "Collecting llvmlite<0.44,>=0.43.0dev0 (from numba<1,>=0.56.0->ydata-profiling->pandas-profiling)\n",
      "  Using cached llvmlite-0.43.0-cp39-cp39-manylinux_2_17_x86_64.manylinux2014_x86_64.whl.metadata (4.8 kB)\n",
      "Collecting joblib>=0.14.1 (from phik<0.13,>=0.11.1->ydata-profiling->pandas-profiling)\n",
      "  Using cached joblib-1.4.2-py3-none-any.whl.metadata (5.4 kB)\n",
      "Collecting annotated-types>=0.4.0 (from pydantic>=2->ydata-profiling->pandas-profiling)\n",
      "  Using cached annotated_types-0.7.0-py3-none-any.whl.metadata (15 kB)\n",
      "Collecting pydantic-core==2.18.4 (from pydantic>=2->ydata-profiling->pandas-profiling)\n",
      "  Using cached pydantic_core-2.18.4-cp39-cp39-manylinux_2_17_x86_64.manylinux2014_x86_64.whl.metadata (6.5 kB)\n",
      "Requirement already satisfied: typing-extensions>=4.6.1 in /home/duarte/Documents/Personal/terraform-software-architecture-extractor-replication-package/.venv/lib/python3.9/site-packages (from pydantic>=2->ydata-profiling->pandas-profiling) (4.12.2)\n",
      "Collecting charset-normalizer<4,>=2 (from requests<3,>=2.24.0->ydata-profiling->pandas-profiling)\n",
      "  Using cached charset_normalizer-3.3.2-cp39-cp39-manylinux_2_17_x86_64.manylinux2014_x86_64.whl.metadata (33 kB)\n",
      "Collecting idna<4,>=2.5 (from requests<3,>=2.24.0->ydata-profiling->pandas-profiling)\n",
      "  Using cached idna-3.7-py3-none-any.whl.metadata (9.9 kB)\n",
      "Collecting urllib3<3,>=1.21.1 (from requests<3,>=2.24.0->ydata-profiling->pandas-profiling)\n",
      "  Using cached urllib3-2.2.2-py3-none-any.whl.metadata (6.4 kB)\n",
      "Collecting certifi>=2017.4.17 (from requests<3,>=2.24.0->ydata-profiling->pandas-profiling)\n",
      "  Using cached certifi-2024.6.2-py3-none-any.whl.metadata (2.2 kB)\n",
      "Collecting oauthlib>=3.0.0 (from requests-oauthlib>=0.7.0->google-auth-oauthlib>=0.4.1->gspread)\n",
      "  Using cached oauthlib-3.2.2-py3-none-any.whl.metadata (7.5 kB)\n",
      "Collecting patsy>=0.5.6 (from statsmodels<1,>=0.13.2->ydata-profiling->pandas-profiling)\n",
      "  Using cached patsy-0.5.6-py2.py3-none-any.whl.metadata (3.5 kB)\n",
      "Requirement already satisfied: importlib-metadata>=3.6 in /home/duarte/Documents/Personal/terraform-software-architecture-extractor-replication-package/.venv/lib/python3.9/site-packages (from typeguard<5,>=3->ydata-profiling->pandas-profiling) (7.2.1)\n",
      "Collecting attrs>=19.3.0 (from visions<0.7.7,>=0.7.5->visions[type_image_path]<0.7.7,>=0.7.5->ydata-profiling->pandas-profiling)\n",
      "  Using cached attrs-23.2.0-py3-none-any.whl.metadata (9.5 kB)\n",
      "Collecting networkx>=2.4 (from visions<0.7.7,>=0.7.5->visions[type_image_path]<0.7.7,>=0.7.5->ydata-profiling->pandas-profiling)\n",
      "  Using cached networkx-3.2.1-py3-none-any.whl.metadata (5.2 kB)\n",
      "Using cached gspread-6.1.2-py3-none-any.whl (57 kB)\n",
      "Using cached oauth2client-4.1.3-py2.py3-none-any.whl (98 kB)\n",
      "Using cached google_api_python_client-1.6.7-py2.py3-none-any.whl (56 kB)\n",
      "Using cached pandas-2.2.2-cp39-cp39-manylinux_2_17_x86_64.manylinux2014_x86_64.whl (13.1 MB)\n",
      "Using cached seaborn-0.13.2-py3-none-any.whl (294 kB)\n",
      "Using cached pandas_profiling-3.6.6-py2.py3-none-any.whl (324 kB)\n",
      "Using cached argparse-1.4.0-py2.py3-none-any.whl (23 kB)\n",
      "Using cached contourpy-1.2.1-cp39-cp39-manylinux_2_17_x86_64.manylinux2014_x86_64.whl (304 kB)\n",
      "Using cached cycler-0.12.1-py3-none-any.whl (8.3 kB)\n",
      "Using cached fonttools-4.53.0-cp39-cp39-manylinux_2_17_x86_64.manylinux2014_x86_64.whl (4.6 MB)\n",
      "Using cached google_auth-2.30.0-py2.py3-none-any.whl (193 kB)\n",
      "Using cached google_auth_oauthlib-1.2.0-py2.py3-none-any.whl (24 kB)\n",
      "Using cached httplib2-0.22.0-py3-none-any.whl (96 kB)\n",
      "Using cached importlib_resources-6.4.0-py3-none-any.whl (38 kB)\n",
      "Using cached kiwisolver-1.4.5-cp39-cp39-manylinux_2_12_x86_64.manylinux2010_x86_64.whl (1.6 MB)\n",
      "Using cached pillow-10.3.0-cp39-cp39-manylinux_2_28_x86_64.whl (4.5 MB)\n",
      "Using cached pyasn1-0.6.0-py2.py3-none-any.whl (85 kB)\n",
      "Using cached pyasn1_modules-0.4.0-py3-none-any.whl (181 kB)\n",
      "Using cached pyparsing-3.1.2-py3-none-any.whl (103 kB)\n",
      "Using cached pytz-2024.1-py2.py3-none-any.whl (505 kB)\n",
      "Using cached rsa-4.9-py3-none-any.whl (34 kB)\n",
      "Using cached tzdata-2024.1-py2.py3-none-any.whl (345 kB)\n",
      "Using cached ydata_profiling-4.8.3-py2.py3-none-any.whl (359 kB)\n",
      "Using cached ImageHash-4.3.1-py2.py3-none-any.whl (296 kB)\n",
      "Using cached numpy-1.26.4-cp39-cp39-manylinux_2_17_x86_64.manylinux2014_x86_64.whl (18.2 MB)\n",
      "Using cached matplotlib-3.8.4-cp39-cp39-manylinux_2_17_x86_64.manylinux2014_x86_64.whl (11.6 MB)\n",
      "Using cached cachetools-5.3.3-py3-none-any.whl (9.3 kB)\n",
      "Using cached dacite-1.8.1-py3-none-any.whl (14 kB)\n",
      "Using cached jinja2-3.1.4-py3-none-any.whl (133 kB)\n",
      "Using cached multimethod-1.11.2-py3-none-any.whl (10 kB)\n",
      "Using cached numba-0.60.0-cp39-cp39-manylinux2014_x86_64.manylinux_2_17_x86_64.whl (3.7 MB)\n",
      "Using cached phik-0.12.4-cp39-cp39-manylinux_2_17_x86_64.manylinux2014_x86_64.whl (686 kB)\n",
      "Using cached pydantic-2.7.4-py3-none-any.whl (409 kB)\n",
      "Using cached pydantic_core-2.18.4-cp39-cp39-manylinux_2_17_x86_64.manylinux2014_x86_64.whl (2.0 MB)\n",
      "Using cached PyYAML-6.0.1-cp39-cp39-manylinux_2_17_x86_64.manylinux2014_x86_64.whl (738 kB)\n",
      "Using cached requests-2.32.3-py3-none-any.whl (64 kB)\n",
      "Using cached requests_oauthlib-2.0.0-py2.py3-none-any.whl (24 kB)\n",
      "Using cached scipy-1.13.1-cp39-cp39-manylinux_2_17_x86_64.manylinux2014_x86_64.whl (38.6 MB)\n",
      "Using cached statsmodels-0.14.2-cp39-cp39-manylinux_2_17_x86_64.manylinux2014_x86_64.whl (10.8 MB)\n",
      "Using cached tqdm-4.66.4-py3-none-any.whl (78 kB)\n",
      "Using cached typeguard-4.3.0-py3-none-any.whl (35 kB)\n",
      "Using cached uritemplate-3.0.1-py2.py3-none-any.whl (15 kB)\n",
      "Using cached visions-0.7.6-py3-none-any.whl (104 kB)\n",
      "Using cached wordcloud-1.9.3-cp39-cp39-manylinux_2_17_x86_64.manylinux2014_x86_64.whl (513 kB)\n",
      "Using cached annotated_types-0.7.0-py3-none-any.whl (13 kB)\n",
      "Using cached attrs-23.2.0-py3-none-any.whl (60 kB)\n",
      "Using cached certifi-2024.6.2-py3-none-any.whl (164 kB)\n",
      "Using cached charset_normalizer-3.3.2-cp39-cp39-manylinux_2_17_x86_64.manylinux2014_x86_64.whl (142 kB)\n",
      "Using cached idna-3.7-py3-none-any.whl (66 kB)\n",
      "Using cached joblib-1.4.2-py3-none-any.whl (301 kB)\n",
      "Using cached llvmlite-0.43.0-cp39-cp39-manylinux_2_17_x86_64.manylinux2014_x86_64.whl (43.9 MB)\n",
      "Using cached MarkupSafe-2.1.5-cp39-cp39-manylinux_2_17_x86_64.manylinux2014_x86_64.whl (25 kB)\n",
      "Using cached networkx-3.2.1-py3-none-any.whl (1.6 MB)\n",
      "Using cached oauthlib-3.2.2-py3-none-any.whl (151 kB)\n",
      "Using cached patsy-0.5.6-py2.py3-none-any.whl (233 kB)\n",
      "Using cached urllib3-2.2.2-py3-none-any.whl (121 kB)\n",
      "Using cached pywavelets-1.6.0-cp39-cp39-manylinux_2_17_x86_64.manylinux2014_x86_64.whl (4.5 MB)\n",
      "Installing collected packages: pytz, htmlmin, argparse, urllib3, uritemplate, tzdata, tqdm, PyYAML, pyparsing, pydantic-core, pyasn1, pillow, oauthlib, numpy, networkx, multimethod, MarkupSafe, llvmlite, kiwisolver, joblib, importlib-resources, idna, fonttools, dacite, cycler, charset-normalizer, certifi, cachetools, attrs, annotated-types, typeguard, scipy, rsa, requests, PyWavelets, pydantic, pyasn1-modules, patsy, pandas, numba, jinja2, httplib2, contourpy, visions, statsmodels, requests-oauthlib, oauth2client, matplotlib, imagehash, google-auth, wordcloud, seaborn, phik, google-auth-oauthlib, google-api-python-client, ydata-profiling, gspread, pandas-profiling, df2gspread\n",
      "Successfully installed MarkupSafe-2.1.5 PyWavelets-1.6.0 PyYAML-6.0.1 annotated-types-0.7.0 argparse-1.4.0 attrs-23.2.0 cachetools-5.3.3 certifi-2024.6.2 charset-normalizer-3.3.2 contourpy-1.2.1 cycler-0.12.1 dacite-1.8.1 df2gspread-1.0.4 fonttools-4.53.0 google-api-python-client-1.6.7 google-auth-2.30.0 google-auth-oauthlib-1.2.0 gspread-6.1.2 htmlmin-0.1.12 httplib2-0.22.0 idna-3.7 imagehash-4.3.1 importlib-resources-6.4.0 jinja2-3.1.4 joblib-1.4.2 kiwisolver-1.4.5 llvmlite-0.43.0 matplotlib-3.8.4 multimethod-1.11.2 networkx-3.2.1 numba-0.60.0 numpy-1.26.4 oauth2client-4.1.3 oauthlib-3.2.2 pandas-2.2.2 pandas-profiling-3.6.6 patsy-0.5.6 phik-0.12.4 pillow-10.3.0 pyasn1-0.6.0 pyasn1-modules-0.4.0 pydantic-2.7.4 pydantic-core-2.18.4 pyparsing-3.1.2 pytz-2024.1 requests-2.32.3 requests-oauthlib-2.0.0 rsa-4.9 scipy-1.13.1 seaborn-0.13.2 statsmodels-0.14.2 tqdm-4.66.4 typeguard-4.3.0 tzdata-2024.1 uritemplate-3.0.1 urllib3-2.2.2 visions-0.7.6 wordcloud-1.9.3 ydata-profiling-4.8.3\n"
     ]
    },
    {
     "data": {
      "text/plain": [
       "0"
      ]
     },
     "execution_count": 1,
     "metadata": {},
     "output_type": "execute_result"
    }
   ],
   "source": [
    "# Install a pip package in the current Jupyter kernel\n",
    "import subprocess\n",
    "import sys\n",
    "subprocess.call([sys.executable,\"-m\",\"pip\",\"install\",\"numpy\",\"gspread\",\"oauth2client\",\"df2gspread\",\"pandas\",\"matplotlib\",\"seaborn\", \"pandas-profiling\"])\n"
   ]
  },
  {
   "cell_type": "code",
   "execution_count": 7,
   "id": "add29761",
   "metadata": {
    "pycharm": {
     "name": "#%%\n"
    }
   },
   "outputs": [],
   "source": [
    "import numpy as np\n",
    "import pandas as pd\n",
    "from pandas.api.types import is_numeric_dtype, is_string_dtype\n",
    "import gspread\n",
    "import seaborn\n",
    "import matplotlib.pyplot as plt\n",
    "import matplotlib.patches as mpatches\n",
    "import textwrap\n",
    "from itertools import chain\n",
    "from oauth2client.service_account import ServiceAccountCredentials\n",
    "import time\n",
    "from collections import defaultdict\n",
    "from pathlib import Path\n",
    "import os"
   ]
  },
  {
   "cell_type": "code",
   "execution_count": 3,
   "id": "0cf69ac1",
   "metadata": {
    "pycharm": {
     "name": "#%%\n"
    }
   },
   "outputs": [],
   "source": [
    "pd.set_option('display.max_rows', 6000)\n",
    "pd.set_option('display.max_columns', 6000)\n",
    "pd.set_option('display.width', 6000)\n",
    "pd.options.display.max_colwidth = 0"
   ]
  },
  {
   "cell_type": "code",
   "execution_count": 4,
   "id": "e7e21667",
   "metadata": {
    "pycharm": {
     "name": "#%%\n"
    }
   },
   "outputs": [],
   "source": [
    "data = pd.read_csv(\"../collected_data/raw_results.csv\")\n",
    "# ProfileReport(data)\n",
    "\n",
    "def get_column_full_name(keyword_on_column):\n",
    "    for column in data.columns:\n",
    "        if keyword_on_column in column:\n",
    "            return column\n"
   ]
  },
  {
   "cell_type": "code",
   "execution_count": 5,
   "id": "fab6e0da",
   "metadata": {
    "pycharm": {
     "name": "#%%\n"
    }
   },
   "outputs": [],
   "source": [
    "def plot_horizontal_distribution(results, category_names, legend_lines, legend_anchor):\n",
    "    labels = list(results.keys())\n",
    "    data = np.array(list(results.values()))\n",
    "    data_cum = data.cumsum(axis=1)\n",
    "    category_colors = plt.get_cmap('tab20c')(\n",
    "        np.linspace(0.15, 0.85, data.shape[1]))\n",
    "\n",
    "    fig, ax = plt.subplots(figsize=(12.2, 1))\n",
    "    ax.invert_yaxis()\n",
    "    ax.xaxis.set_visible(False)\n",
    "    ax.set_xlim(0, np.sum(data, axis=1).max())\n",
    "\n",
    "    for i, (colname, color) in enumerate(zip(category_names, category_colors)):\n",
    "        widths = data[:, i]\n",
    "        starts = data_cum[:, i] - widths\n",
    "        ax.barh(labels, widths, left=starts, height=0.9,\n",
    "                label=colname, color=color)\n",
    "        xcenters = starts + widths / 2\n",
    "\n",
    "        r, g, b, _ = color\n",
    "        text_color = 'white' if r * g * b < 0.5 else 'darkgrey'\n",
    "        for y, (x, c) in enumerate(zip(xcenters, widths)):\n",
    "            ax.text(x, y, str(int(c)) + '%', ha='center', va='center',\n",
    "                    color=text_color, fontsize='medium')\n",
    "    ax.legend(ncol=int(len(category_names) / legend_lines), bbox_to_anchor=legend_anchor,\n",
    "              loc='lower left', fontsize='medium')\n",
    "\n",
    "    return fig, ax"
   ]
  },
  {
   "cell_type": "code",
   "execution_count": 6,
   "id": "3d2877c5",
   "metadata": {
    "pycharm": {
     "name": "#%%\n"
    }
   },
   "outputs": [],
   "source": [
    "# countries\n",
    "countries = data['Country']\n",
    "results_size = len(countries)\n",
    "occurrences = defaultdict(int)\n",
    "\n",
    "for country in countries:\n",
    "    if occurrences[country]:\n",
    "        occurrences[country] = occurrences[country] + 1\n",
    "    else:\n",
    "        occurrences[country] = 1\n",
    "\n",
    "distribution = {key: int(round(value / results_size, 2) * 100) for key, value in occurrences.items()}\n",
    "sorted_distribution = dict(sorted(distribution.items(), key=lambda item: item[1], reverse=True))"
   ]
  },
  {
   "cell_type": "code",
   "execution_count": 8,
   "id": "34e6920f",
   "metadata": {
    "pycharm": {
     "name": "#%%\n"
    }
   },
   "outputs": [
    {
     "data": {
      "image/png": "[encoded data removed]",
      "text/plain": [
       "<Figure size 1220x100 with 1 Axes>"
      ]
     },
     "metadata": {},
     "output_type": "display_data"
    }
   ],
   "source": [
    "category_names = list(sorted_distribution.keys())\n",
    "results = {\n",
    "    '': list(sorted_distribution.values())\n",
    "}\n",
    "\n",
    "plot_horizontal_distribution(results, category_names, 4, (0.02, -1.4))\n",
    "\n",
    "os.makedirs(\"../figures\",exist_ok=True)\n",
    "filepath = Path('../figures/dist_country.pdf')\n",
    "plt.savefig(filepath, format='pdf', bbox_inches='tight')\n",
    "plt.show()\n",
    "\n"
   ]
  },
  {
   "cell_type": "code",
   "execution_count": 9,
   "id": "6185de98",
   "metadata": {
    "pycharm": {
     "name": "#%%\n"
    }
   },
   "outputs": [
    {
     "data": {
      "image/png": "[encoded data removed]",
      "text/plain": [
       "<Figure size 1220x100 with 1 Axes>"
      ]
     },
     "metadata": {},
     "output_type": "display_data"
    }
   ],
   "source": [
    "# Education level\n",
    "def translate_level(level):\n",
    "    if 'Primary' in level:\n",
    "        return \"Primary school\"\n",
    "    elif 'Secondary' in level:\n",
    "        return \"Secondary school\"\n",
    "    elif 'college' in level:\n",
    "        return \"University study without degree\"\n",
    "    elif 'Bachelor' in level:\n",
    "        return \"Bachelor's degree\"\n",
    "    elif 'Master' in level:\n",
    "        return \"Master's degree\"\n",
    "    elif 'Doctoral' in level:\n",
    "        return \"Doctoral degree\"\n",
    "    else:\n",
    "        return 'Other'\n",
    "        \n",
    "\n",
    "\n",
    "education_levels = data['Educational attainment']\n",
    "education_answers_size = len(education_levels)\n",
    "education_occurrences = defaultdict(int)\n",
    "\n",
    "for edl in education_levels:\n",
    "    level = translate_level(edl)\n",
    "    if education_occurrences[level]:\n",
    "        education_occurrences[level] = education_occurrences[level] + 1\n",
    "    else:\n",
    "        education_occurrences[level] = 1\n",
    "\n",
    "education_distribution = {key: round((value / education_answers_size), 2) * 100 for key, value in education_occurrences.items()}\n",
    "education_sorted_distribution = dict(sorted(education_distribution.items(), key=lambda item: item[1], reverse=True))\n",
    "\n",
    "edu_category_names = list(education_sorted_distribution.keys())\n",
    "edu_results = {\n",
    "    '': list(education_sorted_distribution.values())\n",
    "}\n",
    "\n",
    "plot_horizontal_distribution(edu_results, edu_category_names, 1, (0.15, -0.6))\n",
    "filepath = Path('../figures/edu_attainment.pdf')\n",
    "plt.savefig(filepath, format='pdf', bbox_inches='tight')\n",
    "plt.show()"
   ]
  },
  {
   "cell_type": "code",
   "execution_count": 10,
   "id": "4c4b5d8a",
   "metadata": {
    "pycharm": {
     "name": "#%%\n"
    }
   },
   "outputs": [
    {
     "data": {
      "image/png": "[encoded data removed]",
      "text/plain": [
       "<Figure size 1220x100 with 1 Axes>"
      ]
     },
     "metadata": {},
     "output_type": "display_data"
    }
   ],
   "source": [
    "# Area of study\n",
    "\n",
    "def translate_to_computer_science(area):\n",
    "    similar_areas = ['Computer', 'computer', 'Computation', 'computation', 'Informatics', 'informatics',\n",
    "                     'Software', 'software', 'IT', 'informatic', 'Information', 'information']\n",
    "    \n",
    "    if any(x in area for x in similar_areas):\n",
    "        return 'Computer Science'\n",
    "    else:\n",
    "        return 'Other'\n",
    "\n",
    "\n",
    "study_area_column_name = get_column_full_name('study')\n",
    "study_areas = data[study_area_column_name]\n",
    "study_areas_answers = len(study_areas)\n",
    "areas_occurrences = defaultdict(int)\n",
    "\n",
    "for area in study_areas:\n",
    "    translated_area = translate_to_computer_science(area)\n",
    "    if areas_occurrences[translated_area]:\n",
    "        areas_occurrences[translated_area] = areas_occurrences[translated_area] + 1\n",
    "    else:\n",
    "        areas_occurrences[translated_area] = 1\n",
    "\n",
    "area_distribution = {key: (value / study_areas_answers) * 100 for key, value in areas_occurrences.items()}\n",
    "area_distribution_sorted = dict(sorted(area_distribution.items(), key=lambda item: item[1], reverse=True))\n",
    "\n",
    "areas_names = list(area_distribution_sorted.keys())\n",
    "area_results = {\n",
    "    '': list(area_distribution_sorted.values())\n",
    "}\n",
    "\n",
    "plot_horizontal_distribution(area_results, areas_names, 1, (0.35, -0.5))\n",
    "filepath = Path('../figures/area_study.pdf')\n",
    "plt.savefig(filepath, format='pdf', bbox_inches='tight')\n",
    "plt.show()\n"
   ]
  },
  {
   "cell_type": "code",
   "execution_count": 11,
   "id": "636a4184",
   "metadata": {
    "pycharm": {
     "name": "#%%\n"
    }
   },
   "outputs": [
    {
     "data": {
      "image/png": "[encoded data removed]",
      "text/plain": [
       "<Figure size 1220x100 with 1 Axes>"
      ]
     },
     "metadata": {},
     "output_type": "display_data"
    }
   ],
   "source": [
    "profexp_column_name = get_column_full_name('Professional')\n",
    "prof_exp_options = data[profexp_column_name]\n",
    "prof_exp_answers = len(prof_exp_options)\n",
    "prof_exp_occ = defaultdict(int)\n",
    "\n",
    "def get_prof_item_order(item):\n",
    "    if '1 to 4' in item:\n",
    "        return 1\n",
    "    elif '5 to 9' in item:\n",
    "        return 2\n",
    "    elif '10 to 14' in item:\n",
    "        return 3\n",
    "    elif '15' in item:\n",
    "        return 4\n",
    "    else:\n",
    "        return 0\n",
    "\n",
    "for prof_exp in prof_exp_options:\n",
    "    if prof_exp_occ[prof_exp]:\n",
    "        prof_exp_occ[prof_exp] = prof_exp_occ[prof_exp] + 1\n",
    "    else:\n",
    "        prof_exp_occ[prof_exp] = 1\n",
    "\n",
    "prof_exp_dist = {key: round((value / prof_exp_answers), 2) * 100 for key, value in prof_exp_occ.items()}\n",
    "prof_exp_dist_sorted = dict(sorted(prof_exp_dist.items(), key=lambda item: get_prof_item_order(item[0])))\n",
    "#prof_exp_dist_sorted = prof_exp_dist\n",
    "\n",
    "prof_exp_names = list(prof_exp_dist_sorted.keys())\n",
    "prof_exp_values = {\n",
    "    '': list(prof_exp_dist_sorted.values())\n",
    "}\n",
    "\n",
    "plot_horizontal_distribution(prof_exp_values, prof_exp_names, 1, (0.20, -0.5))\n",
    "filepath = Path('../figures/professional_experience.pdf')\n",
    "plt.savefig(filepath, format='pdf', bbox_inches='tight')\n",
    "plt.show()"
   ]
  }
 ],
 "metadata": {
  "kernelspec": {
   "display_name": "Python 3 (ipykernel)",
   "language": "python",
   "name": "python3"
  },
  "language_info": {
   "codemirror_mode": {
    "name": "ipython",
    "version": 3
   },
   "file_extension": ".py",
   "mimetype": "text/x-python",
   "name": "python",
   "nbconvert_exporter": "python",
   "pygments_lexer": "ipython3",
   "version": "3.9.2"
  }
 },
 "nbformat": 4,
 "nbformat_minor": 5
}
